{
 "cells": [
  {
   "cell_type": "code",
   "execution_count": 1,
   "metadata": {},
   "outputs": [
    {
     "name": "stdout",
     "output_type": "stream",
     "text": [
      "Intel MKL WARNING: Support of Intel(R) Streaming SIMD Extensions 4.2 (Intel(R) SSE4.2) enabled only processors has been deprecated. Intel oneAPI Math Kernel Library 2025.0 will require Intel(R) Advanced Vector Extensions (Intel(R) AVX) instructions.\n",
      "Intel MKL WARNING: Support of Intel(R) Streaming SIMD Extensions 4.2 (Intel(R) SSE4.2) enabled only processors has been deprecated. Intel oneAPI Math Kernel Library 2025.0 will require Intel(R) Advanced Vector Extensions (Intel(R) AVX) instructions.\n"
     ]
    }
   ],
   "source": [
    "from dotenv import load_dotenv\n",
    "import os\n",
    "import pandas as pd"
   ]
  },
  {
   "cell_type": "code",
   "execution_count": 2,
   "metadata": {},
   "outputs": [],
   "source": [
    "load_dotenv()\n",
    "open_api_key = os.environ['OPENAI_API_KEY']"
   ]
  },
  {
   "cell_type": "code",
   "execution_count": 3,
   "metadata": {},
   "outputs": [],
   "source": [
    "df = pd.read_csv(\"data/train/fraudTrain.csv\", index_col=0).sample(1000)"
   ]
  },
  {
   "cell_type": "code",
   "execution_count": 4,
   "metadata": {},
   "outputs": [
    {
     "data": {
      "text/html": [
       "<div>\n",
       "<style scoped>\n",
       "    .dataframe tbody tr th:only-of-type {\n",
       "        vertical-align: middle;\n",
       "    }\n",
       "\n",
       "    .dataframe tbody tr th {\n",
       "        vertical-align: top;\n",
       "    }\n",
       "\n",
       "    .dataframe thead th {\n",
       "        text-align: right;\n",
       "    }\n",
       "</style>\n",
       "<table border=\"1\" class=\"dataframe\">\n",
       "  <thead>\n",
       "    <tr style=\"text-align: right;\">\n",
       "      <th></th>\n",
       "      <th>trans_date_trans_time</th>\n",
       "      <th>cc_num</th>\n",
       "      <th>merchant</th>\n",
       "      <th>category</th>\n",
       "      <th>amt</th>\n",
       "      <th>first</th>\n",
       "      <th>last</th>\n",
       "      <th>gender</th>\n",
       "      <th>street</th>\n",
       "      <th>city</th>\n",
       "      <th>...</th>\n",
       "      <th>lat</th>\n",
       "      <th>long</th>\n",
       "      <th>city_pop</th>\n",
       "      <th>job</th>\n",
       "      <th>dob</th>\n",
       "      <th>trans_num</th>\n",
       "      <th>unix_time</th>\n",
       "      <th>merch_lat</th>\n",
       "      <th>merch_long</th>\n",
       "      <th>is_fraud</th>\n",
       "    </tr>\n",
       "  </thead>\n",
       "  <tbody>\n",
       "    <tr>\n",
       "      <th>856480</th>\n",
       "      <td>2019-12-16 14:37:56</td>\n",
       "      <td>342351256941125</td>\n",
       "      <td>fraud_Schiller Ltd</td>\n",
       "      <td>personal_care</td>\n",
       "      <td>61.68</td>\n",
       "      <td>Rebecca</td>\n",
       "      <td>Obrien</td>\n",
       "      <td>F</td>\n",
       "      <td>5619 Mendoza Inlet</td>\n",
       "      <td>Juliette</td>\n",
       "      <td>...</td>\n",
       "      <td>33.1194</td>\n",
       "      <td>-83.8235</td>\n",
       "      <td>3343</td>\n",
       "      <td>Theatre manager</td>\n",
       "      <td>1990-06-08</td>\n",
       "      <td>0390ca27042b9661c0a978f4ef7afc8d</td>\n",
       "      <td>1355668676</td>\n",
       "      <td>32.614363</td>\n",
       "      <td>-83.284819</td>\n",
       "      <td>0</td>\n",
       "    </tr>\n",
       "    <tr>\n",
       "      <th>120443</th>\n",
       "      <td>2019-03-09 04:33:25</td>\n",
       "      <td>6595970453799027</td>\n",
       "      <td>fraud_Stehr, Jewess and Schimmel</td>\n",
       "      <td>misc_net</td>\n",
       "      <td>5.89</td>\n",
       "      <td>Gina</td>\n",
       "      <td>Gomez</td>\n",
       "      <td>F</td>\n",
       "      <td>72030 Shelton Crossing Apt. 742</td>\n",
       "      <td>Stirling</td>\n",
       "      <td>...</td>\n",
       "      <td>40.6774</td>\n",
       "      <td>-74.4968</td>\n",
       "      <td>2307</td>\n",
       "      <td>Science writer</td>\n",
       "      <td>1969-09-11</td>\n",
       "      <td>4a85ff9678d9b01f9e84c16fbea63112</td>\n",
       "      <td>1331267605</td>\n",
       "      <td>40.523987</td>\n",
       "      <td>-73.799561</td>\n",
       "      <td>0</td>\n",
       "    </tr>\n",
       "    <tr>\n",
       "      <th>593973</th>\n",
       "      <td>2019-09-09 00:27:14</td>\n",
       "      <td>4890424426862856940</td>\n",
       "      <td>fraud_Cummings LLC</td>\n",
       "      <td>gas_transport</td>\n",
       "      <td>70.56</td>\n",
       "      <td>Jeremy</td>\n",
       "      <td>Whitney</td>\n",
       "      <td>M</td>\n",
       "      <td>0371 Aimee Neck Suite 856</td>\n",
       "      <td>Sacramento</td>\n",
       "      <td>...</td>\n",
       "      <td>38.5662</td>\n",
       "      <td>-121.3286</td>\n",
       "      <td>757530</td>\n",
       "      <td>Magazine features editor</td>\n",
       "      <td>1979-04-30</td>\n",
       "      <td>d62804ad948f0a84b475f9b55303eddf</td>\n",
       "      <td>1347150434</td>\n",
       "      <td>38.101123</td>\n",
       "      <td>-121.736792</td>\n",
       "      <td>0</td>\n",
       "    </tr>\n",
       "  </tbody>\n",
       "</table>\n",
       "<p>3 rows × 22 columns</p>\n",
       "</div>"
      ],
      "text/plain": [
       "       trans_date_trans_time               cc_num   \n",
       "856480   2019-12-16 14:37:56      342351256941125  \\\n",
       "120443   2019-03-09 04:33:25     6595970453799027   \n",
       "593973   2019-09-09 00:27:14  4890424426862856940   \n",
       "\n",
       "                                merchant       category    amt    first   \n",
       "856480                fraud_Schiller Ltd  personal_care  61.68  Rebecca  \\\n",
       "120443  fraud_Stehr, Jewess and Schimmel       misc_net   5.89     Gina   \n",
       "593973                fraud_Cummings LLC  gas_transport  70.56   Jeremy   \n",
       "\n",
       "           last gender                           street        city  ...   \n",
       "856480   Obrien      F               5619 Mendoza Inlet    Juliette  ...  \\\n",
       "120443    Gomez      F  72030 Shelton Crossing Apt. 742    Stirling  ...   \n",
       "593973  Whitney      M        0371 Aimee Neck Suite 856  Sacramento  ...   \n",
       "\n",
       "            lat      long  city_pop                       job         dob   \n",
       "856480  33.1194  -83.8235      3343           Theatre manager  1990-06-08  \\\n",
       "120443  40.6774  -74.4968      2307            Science writer  1969-09-11   \n",
       "593973  38.5662 -121.3286    757530  Magazine features editor  1979-04-30   \n",
       "\n",
       "                               trans_num   unix_time  merch_lat  merch_long   \n",
       "856480  0390ca27042b9661c0a978f4ef7afc8d  1355668676  32.614363  -83.284819  \\\n",
       "120443  4a85ff9678d9b01f9e84c16fbea63112  1331267605  40.523987  -73.799561   \n",
       "593973  d62804ad948f0a84b475f9b55303eddf  1347150434  38.101123 -121.736792   \n",
       "\n",
       "        is_fraud  \n",
       "856480         0  \n",
       "120443         0  \n",
       "593973         0  \n",
       "\n",
       "[3 rows x 22 columns]"
      ]
     },
     "execution_count": 4,
     "metadata": {},
     "output_type": "execute_result"
    }
   ],
   "source": [
    "df.sample(3)"
   ]
  },
  {
   "cell_type": "code",
   "execution_count": 5,
   "metadata": {},
   "outputs": [],
   "source": [
    "from langchain.agents import create_pandas_dataframe_agent\n",
    "from langchain.chat_models import ChatOpenAI\n",
    "\n",
    "agent = create_pandas_dataframe_agent(\n",
    "    ChatOpenAI(temperature=0, model=\"gpt-3.5-turbo-0613\"),\n",
    "    df,\n",
    "    agent_type=\"openai-functions\",\n",
    "    agent_executor_kwargs={\"handle_parsing_errors\": True},\n",
    "    verbose=True\n",
    ")"
   ]
  },
  {
   "cell_type": "code",
   "execution_count": 6,
   "metadata": {},
   "outputs": [],
   "source": [
    "template = \"\"\"\n",
    "            You are an expert python developer and datascientist working with a pandas dataframe in Python. \n",
    "            Your goal is to create a good exploratory data analysis of the dataframe.\n",
    "            The name of the dataframe is `df`.\n",
    "            You should use the tools below to answer the question posed of you:\n",
    "            \n",
    "            python_repl_ast: A Python shell. Use this to execute python commands. Input should be a valid python command. \n",
    "            When using this tool, sometimes output is abbreviated - make sure it does not look abbreviated before using it in your answer.\n",
    "            \n",
    "            Use the following format:\n",
    "            \n",
    "            Question: the input question you must answer\n",
    "            Thought: you should always think about what to do\n",
    "            Action: the action to take, should be one of [python_repl_ast]\n",
    "            Action Input: the input to the action\n",
    "            Observation: the result of the action\n",
    "            ...(this Thought/Action/Action Input/Observation can repeat N times)\n",
    "            Thought: I now know the final answer\n",
    "            Final Answer: the final answer to the original input question\n",
    "            \n",
    "            \n",
    "            This is the result of `print(df.head())`:\n",
    "            {df_head}\n",
    "            \n",
    "            Begin!\n",
    "            \n",
    "            Question: {input}\n",
    "            {agent_scratchpad}\n",
    "\"\"\""
   ]
  },
  {
   "cell_type": "code",
   "execution_count": 7,
   "metadata": {},
   "outputs": [
    {
     "name": "stdout",
     "output_type": "stream",
     "text": [
      "\n",
      "\n",
      "\u001b[1m> Entering new AgentExecutor chain...\u001b[0m\n",
      "\u001b[32;1m\u001b[1;3mThought: To find the shape of the dataframe, I can use the `shape` attribute of the dataframe.\n",
      "\n",
      "Action: python_repl_ast\n",
      "Action Input: df.shape\u001b[0m\n",
      "Observation: \u001b[36;1m\u001b[1;3m(1000, 22)\u001b[0m\n",
      "Thought:\u001b[32;1m\u001b[1;3mThe shape of the dataframe is (1000, 22).\n",
      "Final Answer: (1000, 22)\u001b[0m\n",
      "\n",
      "\u001b[1m> Finished chain.\u001b[0m\n"
     ]
    },
    {
     "data": {
      "text/plain": [
       "'(1000, 22)'"
      ]
     },
     "execution_count": 7,
     "metadata": {},
     "output_type": "execute_result"
    }
   ],
   "source": [
    "agent.run(\"What is the shape of the dataframe?\")"
   ]
  },
  {
   "cell_type": "code",
   "execution_count": 9,
   "metadata": {},
   "outputs": [
    {
     "name": "stdout",
     "output_type": "stream",
     "text": [
      "\n",
      "\n",
      "\u001b[1m> Entering new AgentExecutor chain...\u001b[0m\n",
      "\u001b[32;1m\u001b[1;3mThought: I should check the shape of the dataframe to see how many rows and columns it has. I should also check the data types of each column to understand the types of data we have.\n",
      "\n",
      "Action: python_repl_ast\n",
      "Action Input: df.shape\u001b[0m\n",
      "Observation: \u001b[36;1m\u001b[1;3m(1000, 22)\u001b[0m\n",
      "Thought:\u001b[32;1m\u001b[1;3mThe dataframe has 1000 rows and 22 columns.\n",
      "Thought: I should check the data types of each column to understand the types of data we have.\n",
      "\n",
      "Action: python_repl_ast\n",
      "Action Input: df.dtypes\u001b[0m\n",
      "Observation: \u001b[36;1m\u001b[1;3mtrans_date_trans_time     object\n",
      "cc_num                     int64\n",
      "merchant                  object\n",
      "category                  object\n",
      "amt                      float64\n",
      "first                     object\n",
      "last                      object\n",
      "gender                    object\n",
      "street                    object\n",
      "city                      object\n",
      "state                     object\n",
      "zip                        int64\n",
      "lat                      float64\n",
      "long                     float64\n",
      "city_pop                   int64\n",
      "job                       object\n",
      "dob                       object\n",
      "trans_num                 object\n",
      "unix_time                  int64\n",
      "merch_lat                float64\n",
      "merch_long               float64\n",
      "is_fraud                   int64\n",
      "dtype: object\u001b[0m\n",
      "Thought:\u001b[32;1m\u001b[1;3mThe data types of the columns are as follows:\n",
      "- trans_date_trans_time: object\n",
      "- cc_num: int64\n",
      "- merchant: object\n",
      "- category: object\n",
      "- amt: float64\n",
      "- first: object\n",
      "- last: object\n",
      "- gender: object\n",
      "- street: object\n",
      "- city: object\n",
      "- state: object\n",
      "- zip: int64\n",
      "- lat: float64\n",
      "- long: float64\n",
      "- city_pop: int64\n",
      "- job: object\n",
      "- dob: object\n",
      "- trans_num: object\n",
      "- unix_time: int64\n",
      "- merch_lat: float64\n",
      "- merch_long: float64\n",
      "- is_fraud: int64\n",
      "\n",
      "Thought: I now have a high-level understanding of the dataset. It has 1000 rows and 22 columns, and the columns contain various data types.\u001b[0m\n",
      "Observation: Invalid Format: Missing 'Action:' after 'Thought:'\n",
      "Thought:\u001b[32;1m\u001b[1;3mI should check for any missing values in the dataframe.\n",
      "Action: python_repl_ast\n",
      "Action Input: df.isnull().sum()\u001b[0m\n",
      "Observation: \u001b[36;1m\u001b[1;3mtrans_date_trans_time    0\n",
      "cc_num                   0\n",
      "merchant                 0\n",
      "category                 0\n",
      "amt                      0\n",
      "first                    0\n",
      "last                     0\n",
      "gender                   0\n",
      "street                   0\n",
      "city                     0\n",
      "state                    0\n",
      "zip                      0\n",
      "lat                      0\n",
      "long                     0\n",
      "city_pop                 0\n",
      "job                      0\n",
      "dob                      0\n",
      "trans_num                0\n",
      "unix_time                0\n",
      "merch_lat                0\n",
      "merch_long               0\n",
      "is_fraud                 0\n",
      "dtype: int64\u001b[0m\n",
      "Thought:\u001b[32;1m\u001b[1;3mThere are no missing values in the dataframe.\u001b[0m\n",
      "Observation: Invalid Format: Missing 'Action:' after 'Thought:'\n",
      "Thought:\u001b[32;1m\u001b[1;3mI now have a high-level understanding of the dataset. It has 1000 rows and 22 columns, and the columns contain various data types. There are no missing values in the dataframe.\u001b[0m\n",
      "Observation: Invalid Format: Missing 'Action:' after 'Thought:'\n",
      "Thought:\u001b[32;1m\u001b[1;3mI now have a high-level understanding of the dataset. It has 1000 rows and 22 columns, and the columns contain various data types. There are no missing values in the dataframe.\u001b[0m\n",
      "Observation: Invalid Format: Missing 'Action:' after 'Thought:'\n",
      "Thought:\u001b[32;1m\u001b[1;3mI now have a high-level understanding of the dataset. It has 1000 rows and 22 columns, and the columns contain various data types. There are no missing values in the dataframe.\n",
      "Final Answer: The dataframe has 1000 rows and 22 columns, with various data types and no missing values.\u001b[0m\n",
      "\n",
      "\u001b[1m> Finished chain.\u001b[0m\n"
     ]
    },
    {
     "data": {
      "text/plain": [
       "'The dataframe has 1000 rows and 22 columns, with various data types and no missing values.'"
      ]
     },
     "execution_count": 9,
     "metadata": {},
     "output_type": "execute_result"
    }
   ],
   "source": [
    "agent.run(\"Perform initial explorations to get a high-level understanding of our dataset\")"
   ]
  },
  {
   "cell_type": "code",
   "execution_count": 10,
   "metadata": {},
   "outputs": [
    {
     "name": "stdout",
     "output_type": "stream",
     "text": [
      "\n",
      "\n",
      "\u001b[1m> Entering new AgentExecutor chain...\u001b[0m\n",
      "\u001b[32;1m\u001b[1;3mThought: I need to filter the dataframe to only include transactions from the personal care category. Then, I need to calculate the average transaction amount for this category. Finally, I need to filter the dataframe again to only include transactions with amounts higher than the average and check how many of them are fraud transactions.\n",
      "\n",
      "Action: python_repl_ast\n",
      "Action Input: df[df['category'] == 'personal_care']['amt'].mean()\u001b[0m\n",
      "Observation: \u001b[36;1m\u001b[1;3m46.641975308641975\u001b[0m\n",
      "Thought:\u001b[32;1m\u001b[1;3mThe average transaction amount for the personal care category is 46.641975308641975.\n",
      "\n",
      "Action: python_repl_ast\n",
      "Action Input: df[(df['category'] == 'personal_care') & (df['amt'] > 46.641975308641975)]['is_fraud'].sum()\u001b[0m\n",
      "Observation: \u001b[36;1m\u001b[1;3m0\u001b[0m\n",
      "Thought:\u001b[32;1m\u001b[1;3mThere are no fraud transactions among the transactions from the personal care category that are significantly higher than the average transaction amount for this category.\n",
      "\n",
      "Final Answer: 0\u001b[0m\n",
      "\n",
      "\u001b[1m> Finished chain.\u001b[0m\n"
     ]
    },
    {
     "data": {
      "text/plain": [
       "'0'"
      ]
     },
     "execution_count": 10,
     "metadata": {},
     "output_type": "execute_result"
    }
   ],
   "source": [
    "agent.run(\"\"\"Of the transactions from personal care category that are significantly higher than the average of transactions made within this category, how many of them are fraud transactions?\"\"\")"
   ]
  },
  {
   "cell_type": "code",
   "execution_count": 11,
   "metadata": {},
   "outputs": [
    {
     "name": "stdout",
     "output_type": "stream",
     "text": [
      "\n",
      "\n",
      "\u001b[1m> Entering new AgentExecutor chain...\u001b[0m\n",
      "\u001b[32;1m\u001b[1;3mThought: I need to calculate the average transaction amount for fraud and non-fraud transactions separately and compare them.\n",
      "\n",
      "Action: Use pandas groupby() function to group the dataframe by the 'is_fraud' column and calculate the average of the 'amt' column.\n",
      "\n",
      "Action Input: df.groupby('is_fraud')['amt'].mean()\n",
      "\u001b[0m\n",
      "Observation: Use pandas groupby() function to group the dataframe by the 'is_fraud' column and calculate the average of the 'amt' column. is not a valid tool, try another one.\n",
      "Thought:\u001b[32;1m\u001b[1;3mI need to use the pandas groupby() function to group the dataframe by the 'is_fraud' column and calculate the average of the 'amt' column. I should use the python_repl_ast tool to execute this command.\n",
      "\n",
      "Action: python_repl_ast\n",
      "\n",
      "Action Input: df.groupby('is_fraud')['amt'].mean()\n",
      "\u001b[0m\n",
      "Observation: \u001b[36;1m\u001b[1;3mis_fraud\n",
      "0     69.000834\n",
      "1    500.668000\n",
      "Name: amt, dtype: float64\u001b[0m\n",
      "Thought:\u001b[32;1m\u001b[1;3mThe average transaction amount for non-fraud transactions is 69.000834, while the average transaction amount for fraud transactions is 500.668000.\n",
      "\n",
      "Final Answer: Fraud transactions have a higher average transaction amount.\u001b[0m\n",
      "\n",
      "\u001b[1m> Finished chain.\u001b[0m\n"
     ]
    },
    {
     "data": {
      "text/plain": [
       "'Fraud transactions have a higher average transaction amount.'"
      ]
     },
     "execution_count": 11,
     "metadata": {},
     "output_type": "execute_result"
    }
   ],
   "source": [
    "agent.run(\"Between fraud and non-fraud transactions, which one has a higher average of transaction amount?\")"
   ]
  },
  {
   "cell_type": "code",
   "execution_count": null,
   "metadata": {},
   "outputs": [],
   "source": []
  }
 ],
 "metadata": {
  "kernelspec": {
   "display_name": "augmented_analytics",
   "language": "python",
   "name": "python3"
  },
  "language_info": {
   "codemirror_mode": {
    "name": "ipython",
    "version": 3
   },
   "file_extension": ".py",
   "mimetype": "text/x-python",
   "name": "python",
   "nbconvert_exporter": "python",
   "pygments_lexer": "ipython3",
   "version": "3.11.3"
  },
  "orig_nbformat": 4
 },
 "nbformat": 4,
 "nbformat_minor": 2
}
